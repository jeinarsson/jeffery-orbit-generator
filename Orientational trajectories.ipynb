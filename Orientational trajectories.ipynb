{
 "cells": [
  {
   "cell_type": "code",
   "execution_count": 1,
   "metadata": {},
   "outputs": [],
   "source": [
    "import numpy as np\n",
    "import matplotlib.pyplot as plt\n",
    "\n",
    "from Quaternion import Quaternion\n",
    "\n",
    "%matplotlib inline\n",
    "plt.rcParams['figure.figsize'] = (10.0, 8.0)\n",
    "plt.rcParams['image.interpolation'] = 'nearest'\n",
    "plt.rcParams['image.cmap'] = 'gray'\n",
    "\n",
    "%load_ext autoreload\n",
    "%autoreload 2"
   ]
  },
  {
   "cell_type": "code",
   "execution_count": 64,
   "metadata": {},
   "outputs": [],
   "source": [
    "def jeffery_omega(L, K, q, Omega, E):\n",
    "    \"\"\"\n",
    "    L: (lambda^2-1)/(lambda^2+1)\n",
    "    K: (kappa^2-1)/(kappa^2+1)\n",
    "    q: quaternion representing current orientation\n",
    "    Omega: vorticity (lab frame) \n",
    "    E: strain matrix (lab frame)\n",
    "\n",
    "    Returns angular velocity of particle (body frame)\n",
    "    \"\"\"\n",
    "    R = q.get_R()\n",
    "    n1 = R[:,0]\n",
    "    n2 = R[:,1]\n",
    "    n3 = R[:,2]\n",
    "\n",
    "    omega1 = n1.dot(Omega) + (L-K)/(L*K-1.) * (n2.dot(E.dot(n3)))\n",
    "    omega2 = n2.dot(Omega) + L * (n1.dot(E.dot(n3)))\n",
    "    omega3 = n3.dot(Omega) - K * (n1.dot(E.dot(n2)))\n",
    "\n",
    "    return np.array([omega1, omega2, omega3])\n",
    "\n",
    "def plot_projection(n3s):\n",
    "    \"\"\"\n",
    "    n3s: (N, 3) array\n",
    "    \n",
    "    Plots sequence of x and y-components as line in plane.\n",
    "    \"\"\"\n",
    "    ax=plt.subplot(1,1,1)\n",
    "    ax.plot(n3s[:,0],n3s[:,1],lw=0.4)\n",
    "    ax.plot(n3s[0,0],n3s[0,1],ls='none',marker='o')\n",
    "    ax.set_xlim(-1,1)\n",
    "    ax.set_ylim(-1,1)\n",
    "    ax.set_aspect('equal')"
   ]
  },
  {
   "cell_type": "code",
   "execution_count": null,
   "metadata": {},
   "outputs": [],
   "source": [
    "q = Quaternion(axis=[0,1,0], angle=np.pi/2)\n",
    "\n",
    "dt = 0.001\n",
    "N = 40000\n",
    "\n",
    "l = 7\n",
    "k = 1\n",
    "L = (l**2-1)/(l**2+1)\n",
    "K = (k**2-1)/(k**2+1)\n",
    "\n",
    "Omega = np.array([0,0,-.5])\n",
    "E = np.array([\n",
    "    [0,.5,0],\n",
    "    [.5,0,0],\n",
    "    [0,0,0]\n",
    "])\n",
    "\n",
    "n3s = np.zeros( (N,3) )\n",
    "for n in range(N):\n",
    "    n3s[n,:] = q.get_R()[:,2]\n",
    "    \n",
    "    omega = jeffery_omega(L, K, q, Omega, E)\n",
    "    qdot = 0.5 * omega.dot(q.get_G())\n",
    "    q = q + dt*qdot\n",
    "    q.normalize()\n",
    "\n",
    "plot_projection(n3s)\n",
    "plt.show()"
   ]
  },
  {
   "cell_type": "code",
   "execution_count": 53,
   "metadata": {},
   "outputs": [],
   "source": []
  },
  {
   "cell_type": "code",
   "execution_count": null,
   "metadata": {},
   "outputs": [],
   "source": []
  }
 ],
 "metadata": {
  "kernelspec": {
   "display_name": "Python 3",
   "language": "python",
   "name": "python3"
  },
  "language_info": {
   "codemirror_mode": {
    "name": "ipython",
    "version": 3
   },
   "file_extension": ".py",
   "mimetype": "text/x-python",
   "name": "python",
   "nbconvert_exporter": "python",
   "pygments_lexer": "ipython3",
   "version": "3.6.4"
  }
 },
 "nbformat": 4,
 "nbformat_minor": 2
}
